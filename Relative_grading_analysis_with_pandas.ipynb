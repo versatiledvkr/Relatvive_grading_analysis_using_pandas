{
 "cells": [
  {
   "cell_type": "markdown",
   "id": "fcfe51ff",
   "metadata": {},
   "source": [
    "# Relative Grading\n",
    "### Relative grading is a system of assessment whereby teachers in some university and college classes determine student grades by comparing them against those of their peers.\n",
    "## Steps to calculate relative grading are mentioned below:\n",
    "#### 1) Calculate the Average(a) and the Standard Deviation(sd) of the data.\n",
    "#### 2) Grades:\n",
    "#### o (a + 1.5*sd)\n",
    "#### a+ (a + 1.0*sd)\n",
    "#### a (a + 0.5*sd)\n",
    "#### b+ (a)\n",
    "#### b (a - 0.5*sd)\n",
    "#### c (a - 1.0*sd)\n",
    "#### p (a - 1.5*sd)\n",
    "\n"
   ]
  },
  {
   "cell_type": "code",
   "execution_count": 2,
   "id": "15e4dae4",
   "metadata": {},
   "outputs": [],
   "source": [
    "#import libraies\n",
    "import pandas as pd\n",
    "import matplotlib.pyplot as plt \n",
    "\n"
   ]
  },
  {
   "cell_type": "code",
   "execution_count": 3,
   "id": "5824bc22",
   "metadata": {},
   "outputs": [],
   "source": [
    "df = pd.read_excel('CSE-Final-marks.xlsx')"
   ]
  },
  {
   "cell_type": "code",
   "execution_count": 4,
   "id": "0702a642",
   "metadata": {},
   "outputs": [
    {
     "data": {
      "text/html": [
       "<div>\n",
       "<style scoped>\n",
       "    .dataframe tbody tr th:only-of-type {\n",
       "        vertical-align: middle;\n",
       "    }\n",
       "\n",
       "    .dataframe tbody tr th {\n",
       "        vertical-align: top;\n",
       "    }\n",
       "\n",
       "    .dataframe thead th {\n",
       "        text-align: right;\n",
       "    }\n",
       "</style>\n",
       "<table border=\"1\" class=\"dataframe\">\n",
       "  <thead>\n",
       "    <tr style=\"text-align: right;\">\n",
       "      <th></th>\n",
       "      <th>Pin no</th>\n",
       "      <th>Name</th>\n",
       "      <th>Email address</th>\n",
       "      <th>Quiz-1/20</th>\n",
       "      <th>Quiz-2/20</th>\n",
       "      <th>Mid-1/30</th>\n",
       "      <th>Mid-2/30</th>\n",
       "    </tr>\n",
       "  </thead>\n",
       "  <tbody>\n",
       "    <tr>\n",
       "      <th>0</th>\n",
       "      <td>hu21csen0300133</td>\n",
       "      <td>MADHUNALA TARUN SRIVATHSA</td>\n",
       "      <td>tmadhuna@gitam.in</td>\n",
       "      <td>19.67</td>\n",
       "      <td>20</td>\n",
       "      <td>15</td>\n",
       "      <td>25</td>\n",
       "    </tr>\n",
       "    <tr>\n",
       "      <th>1</th>\n",
       "      <td>hu21csen0300139</td>\n",
       "      <td>RENUKESHWARREDDY  BODDU</td>\n",
       "      <td>rboddu2@gitam.in</td>\n",
       "      <td>12.67</td>\n",
       "      <td>19</td>\n",
       "      <td>25</td>\n",
       "      <td>30</td>\n",
       "    </tr>\n",
       "    <tr>\n",
       "      <th>2</th>\n",
       "      <td>hu21csen0300140</td>\n",
       "      <td>GOKUL YASHAS MIRIYALA</td>\n",
       "      <td>gmiriyal@gitam.in</td>\n",
       "      <td>4.92</td>\n",
       "      <td>20</td>\n",
       "      <td>30</td>\n",
       "      <td>20</td>\n",
       "    </tr>\n",
       "    <tr>\n",
       "      <th>3</th>\n",
       "      <td>hu21csen0300142</td>\n",
       "      <td>DEVARAJU VAMSI KRISHNAM RAJU</td>\n",
       "      <td>kdevaraj@gitam.in</td>\n",
       "      <td>19.67</td>\n",
       "      <td>19</td>\n",
       "      <td>30</td>\n",
       "      <td>30</td>\n",
       "    </tr>\n",
       "    <tr>\n",
       "      <th>4</th>\n",
       "      <td>hu21csen0300143</td>\n",
       "      <td>KRISHA CHOUDHARI</td>\n",
       "      <td>kchoudha@gitam.in</td>\n",
       "      <td>13.33</td>\n",
       "      <td>20</td>\n",
       "      <td>25</td>\n",
       "      <td>30</td>\n",
       "    </tr>\n",
       "  </tbody>\n",
       "</table>\n",
       "</div>"
      ],
      "text/plain": [
       "            Pin no                          Name      Email address Quiz-1/20  \\\n",
       "0  hu21csen0300133     MADHUNALA TARUN SRIVATHSA  tmadhuna@gitam.in     19.67   \n",
       "1  hu21csen0300139       RENUKESHWARREDDY  BODDU   rboddu2@gitam.in     12.67   \n",
       "2  hu21csen0300140         GOKUL YASHAS MIRIYALA  gmiriyal@gitam.in      4.92   \n",
       "3  hu21csen0300142  DEVARAJU VAMSI KRISHNAM RAJU  kdevaraj@gitam.in     19.67   \n",
       "4  hu21csen0300143              KRISHA CHOUDHARI  kchoudha@gitam.in     13.33   \n",
       "\n",
       "  Quiz-2/20 Mid-1/30 Mid-2/30  \n",
       "0        20       15       25  \n",
       "1        19       25       30  \n",
       "2        20       30       20  \n",
       "3        19       30       30  \n",
       "4        20       25       30  "
      ]
     },
     "execution_count": 4,
     "metadata": {},
     "output_type": "execute_result"
    }
   ],
   "source": [
    "df.head()"
   ]
  },
  {
   "cell_type": "code",
   "execution_count": 5,
   "id": "9e4cd19e",
   "metadata": {},
   "outputs": [
    {
     "data": {
      "text/html": [
       "<div>\n",
       "<style scoped>\n",
       "    .dataframe tbody tr th:only-of-type {\n",
       "        vertical-align: middle;\n",
       "    }\n",
       "\n",
       "    .dataframe tbody tr th {\n",
       "        vertical-align: top;\n",
       "    }\n",
       "\n",
       "    .dataframe thead th {\n",
       "        text-align: right;\n",
       "    }\n",
       "</style>\n",
       "<table border=\"1\" class=\"dataframe\">\n",
       "  <thead>\n",
       "    <tr style=\"text-align: right;\">\n",
       "      <th></th>\n",
       "      <th>Pin no</th>\n",
       "      <th>Name</th>\n",
       "      <th>Email address</th>\n",
       "      <th>Quiz-1/20</th>\n",
       "      <th>Quiz-2/20</th>\n",
       "      <th>Mid-1/30</th>\n",
       "      <th>Mid-2/30</th>\n",
       "    </tr>\n",
       "  </thead>\n",
       "  <tbody>\n",
       "    <tr>\n",
       "      <th>52</th>\n",
       "      <td>hu21csen0300431</td>\n",
       "      <td>CHERUKU NIRANJAN RAO</td>\n",
       "      <td>ncheruku2@gitam.in</td>\n",
       "      <td>13.42</td>\n",
       "      <td>19.67</td>\n",
       "      <td>25</td>\n",
       "      <td>25</td>\n",
       "    </tr>\n",
       "    <tr>\n",
       "      <th>53</th>\n",
       "      <td>HU21CSEN0300442</td>\n",
       "      <td>RAMPELLY GANESH</td>\n",
       "      <td>grampell@gitam.in</td>\n",
       "      <td>7.17</td>\n",
       "      <td>16.67</td>\n",
       "      <td>25</td>\n",
       "      <td>A</td>\n",
       "    </tr>\n",
       "    <tr>\n",
       "      <th>54</th>\n",
       "      <td>HU21CSEN0300455</td>\n",
       "      <td>DODDI RAMESH</td>\n",
       "      <td>rdoddi@gitam.in</td>\n",
       "      <td>6.42</td>\n",
       "      <td>19</td>\n",
       "      <td>25</td>\n",
       "      <td>30</td>\n",
       "    </tr>\n",
       "    <tr>\n",
       "      <th>55</th>\n",
       "      <td>HU21CSEN0300457</td>\n",
       "      <td>BHARATH THIMMAPUR</td>\n",
       "      <td>bthimmap@gitam.in</td>\n",
       "      <td>5.92</td>\n",
       "      <td>18.67</td>\n",
       "      <td>25</td>\n",
       "      <td>29.99</td>\n",
       "    </tr>\n",
       "    <tr>\n",
       "      <th>56</th>\n",
       "      <td>HU21CSEN0300463</td>\n",
       "      <td>VADDEMPUDI SRINIDHI</td>\n",
       "      <td>svaddemp@gitam.in</td>\n",
       "      <td>19.42</td>\n",
       "      <td>20</td>\n",
       "      <td>30</td>\n",
       "      <td>15</td>\n",
       "    </tr>\n",
       "  </tbody>\n",
       "</table>\n",
       "</div>"
      ],
      "text/plain": [
       "             Pin no                  Name       Email address Quiz-1/20  \\\n",
       "52  hu21csen0300431  CHERUKU NIRANJAN RAO  ncheruku2@gitam.in     13.42   \n",
       "53  HU21CSEN0300442       RAMPELLY GANESH   grampell@gitam.in      7.17   \n",
       "54  HU21CSEN0300455          DODDI RAMESH     rdoddi@gitam.in      6.42   \n",
       "55  HU21CSEN0300457     BHARATH THIMMAPUR   bthimmap@gitam.in      5.92   \n",
       "56  HU21CSEN0300463   VADDEMPUDI SRINIDHI   svaddemp@gitam.in     19.42   \n",
       "\n",
       "   Quiz-2/20 Mid-1/30 Mid-2/30  \n",
       "52     19.67       25       25  \n",
       "53     16.67       25        A  \n",
       "54        19       25       30  \n",
       "55     18.67       25    29.99  \n",
       "56        20       30       15  "
      ]
     },
     "execution_count": 5,
     "metadata": {},
     "output_type": "execute_result"
    }
   ],
   "source": [
    "df.tail()"
   ]
  },
  {
   "cell_type": "code",
   "execution_count": 6,
   "id": "66b7ade5",
   "metadata": {},
   "outputs": [],
   "source": [
    "p = df['Mid-2/30'].replace('A',0)"
   ]
  },
  {
   "cell_type": "code",
   "execution_count": 7,
   "id": "f4d75cc1",
   "metadata": {},
   "outputs": [
    {
     "data": {
      "text/plain": [
       "[<matplotlib.lines.Line2D at 0x185ccb5bdc0>]"
      ]
     },
     "execution_count": 7,
     "metadata": {},
     "output_type": "execute_result"
    },
    {
     "data": {
      "image/png": "[encoded data removed]",
      "text/plain": [
       "<Figure size 432x288 with 1 Axes>"
      ]
     },
     "metadata": {
      "needs_background": "light"
     },
     "output_type": "display_data"
    }
   ],
   "source": [
    "plt.plot(p)"
   ]
  },
  {
   "cell_type": "code",
   "execution_count": 8,
   "id": "eab2c0d2",
   "metadata": {},
   "outputs": [
    {
     "data": {
      "text/plain": [
       "23.68385964912281"
      ]
     },
     "execution_count": 8,
     "metadata": {},
     "output_type": "execute_result"
    }
   ],
   "source": [
    "#Finding average\n",
    "a = p.mean()\n",
    "a"
   ]
  },
  {
   "cell_type": "code",
   "execution_count": 9,
   "id": "5c6eff76",
   "metadata": {},
   "outputs": [
    {
     "data": {
      "text/plain": [
       "8.635747290516562"
      ]
     },
     "execution_count": 9,
     "metadata": {},
     "output_type": "execute_result"
    }
   ],
   "source": [
    "#Finding standard deviation\n",
    "sd = p.std()\n",
    "sd"
   ]
  },
  {
   "cell_type": "code",
   "execution_count": 14,
   "id": "71c5e078",
   "metadata": {},
   "outputs": [
    {
     "data": {
      "text/plain": [
       "30.0"
      ]
     },
     "execution_count": 14,
     "metadata": {},
     "output_type": "execute_result"
    }
   ],
   "source": [
    "#Maximum marks\n",
    "max = p.max()\n",
    "max"
   ]
  },
  {
   "cell_type": "code",
   "execution_count": 15,
   "id": "749281f4",
   "metadata": {},
   "outputs": [
    {
     "data": {
      "text/plain": [
       "0.0"
      ]
     },
     "execution_count": 15,
     "metadata": {},
     "output_type": "execute_result"
    }
   ],
   "source": [
    "#Minimum marks\n",
    "min = p.min()\n",
    "min"
   ]
  },
  {
   "cell_type": "code",
   "execution_count": 21,
   "id": "24107c82",
   "metadata": {},
   "outputs": [
    {
     "data": {
      "text/plain": [
       "[25.0,\n",
       " 30.0,\n",
       " 20.0,\n",
       " 30.0,\n",
       " 30.0,\n",
       " 19.99,\n",
       " 25.0,\n",
       " 30.0,\n",
       " 30.0,\n",
       " 5.0,\n",
       " 30.0,\n",
       " 30.0,\n",
       " 10.0,\n",
       " 30.0,\n",
       " 30.0,\n",
       " 20.0,\n",
       " 15.0,\n",
       " 30.0,\n",
       " 25.0,\n",
       " 25.0,\n",
       " 30.0,\n",
       " 30.0,\n",
       " 30.0,\n",
       " 15.0,\n",
       " 30.0,\n",
       " 30.0,\n",
       " 30.0,\n",
       " 30.0,\n",
       " 30.0,\n",
       " 25.0,\n",
       " 0.0,\n",
       " 10.0,\n",
       " 20.0,\n",
       " 30.0,\n",
       " 10.0,\n",
       " 30.0,\n",
       " 25.0,\n",
       " 15.0,\n",
       " 30.0,\n",
       " 30.0,\n",
       " 25.0,\n",
       " 30.0,\n",
       " 30.0,\n",
       " 25.0,\n",
       " 30.0,\n",
       " 25.0,\n",
       " 15.0,\n",
       " 0.0,\n",
       " 30.0,\n",
       " 25.0,\n",
       " 20.0,\n",
       " 25.0,\n",
       " 25.0,\n",
       " 0.0,\n",
       " 30.0,\n",
       " 29.99,\n",
       " 15.0]"
      ]
     },
     "execution_count": 21,
     "metadata": {},
     "output_type": "execute_result"
    }
   ],
   "source": [
    "#tolist()= This will convert the dataframe into list\n",
    "x = p.tolist()\n",
    "x"
   ]
  },
  {
   "cell_type": "code",
   "execution_count": 22,
   "id": "cfd5b60b",
   "metadata": {},
   "outputs": [],
   "source": [
    "#o (a + 1.5*sd)\n",
    "#a+ (a + 1.0*sd)\n",
    "#a (a + 0.5*sd)\n",
    "#b+ (a)\n",
    "#b (a - 0.5*sd)\n",
    "#c (a - 1.0*sd)\n",
    "#d (a - 1.5*sd)\n",
    "count1=0\n",
    "count2=0\n",
    "count3=0\n",
    "count4=0\n",
    "count5=0\n",
    "count6=0\n",
    "count7=0\n",
    "count8=0\n",
    "for i in x:\n",
    "    if i>=a + 1.5*sd:\n",
    "        count1= count1+1\n",
    "       \n",
    "    \n",
    "    elif i>=a + 1.0*sd and i<a + 1.5*sd:\n",
    "        count2= count2+1\n",
    "        \n",
    "        \n",
    "    elif i>=a + 0.5*sd and i<a + 1.0*sd:\n",
    "        count3= count3+1\n",
    "        \n",
    "    elif i>=a and i<a + 0.5*sd:\n",
    "        count4= count4+1\n",
    "        \n",
    "    elif i>=a - 0.5*sd and i<a:\n",
    "        count5= count5+1\n",
    "       \n",
    "    elif i>=a - 1.0*sd and i<a - 0.5*sd:\n",
    "        count6= count6+1\n",
    "        \n",
    "    elif i>=a - 1.5*sd and i<a - 1.0*sd:\n",
    "        count7= count7+1\n",
    "        \n",
    "        \n",
    "    else:\n",
    "        failcount=10\n",
    "        \n",
    "    \n",
    "        \n",
    "        "
   ]
  },
  {
   "cell_type": "code",
   "execution_count": 23,
   "id": "e512feb6",
   "metadata": {},
   "outputs": [
    {
     "name": "stdout",
     "output_type": "stream",
     "text": [
      "The no of students who got 'O' grade: 0\n"
     ]
    }
   ],
   "source": [
    "print(\"The no of students who got 'O' grade:\",count1)\n"
   ]
  },
  {
   "cell_type": "code",
   "execution_count": 24,
   "id": "5907e1d4",
   "metadata": {},
   "outputs": [
    {
     "name": "stdout",
     "output_type": "stream",
     "text": [
      "The no of students who got A+ grade: 0\n"
     ]
    }
   ],
   "source": [
    "print(\"The no of students who got A+ grade:\",count2)"
   ]
  },
  {
   "cell_type": "code",
   "execution_count": 25,
   "id": "0f637a75",
   "metadata": {},
   "outputs": [
    {
     "name": "stdout",
     "output_type": "stream",
     "text": [
      "The no of students who got A grade: 28\n"
     ]
    }
   ],
   "source": [
    "print(\"The no of students who got A grade:\",count3)"
   ]
  },
  {
   "cell_type": "code",
   "execution_count": 26,
   "id": "12b9b85d",
   "metadata": {},
   "outputs": [
    {
     "name": "stdout",
     "output_type": "stream",
     "text": [
      "The no of students who got b+ grade: 12\n"
     ]
    }
   ],
   "source": [
    "print(\"The no of students who got b+ grade:\",count4)"
   ]
  },
  {
   "cell_type": "code",
   "execution_count": 27,
   "id": "a58f8287",
   "metadata": {},
   "outputs": [
    {
     "name": "stdout",
     "output_type": "stream",
     "text": [
      "The no of students who got b grade: 5\n"
     ]
    }
   ],
   "source": [
    "print(\"The no of students who got b grade:\",count5)"
   ]
  },
  {
   "cell_type": "code",
   "execution_count": 28,
   "id": "a920f91b",
   "metadata": {},
   "outputs": [
    {
     "name": "stdout",
     "output_type": "stream",
     "text": [
      "The no of students who got c grade: 0\n"
     ]
    }
   ],
   "source": [
    "print(\"The no of students who got c grade:\",count6)"
   ]
  },
  {
   "cell_type": "code",
   "execution_count": 29,
   "id": "f1bca5e2",
   "metadata": {},
   "outputs": [
    {
     "name": "stdout",
     "output_type": "stream",
     "text": [
      "The no of students who got d grade: 5\n"
     ]
    }
   ],
   "source": [
    "print(\"The no of students who got d grade:\",count7)"
   ]
  },
  {
   "cell_type": "code",
   "execution_count": 30,
   "id": "d53e80f4",
   "metadata": {},
   "outputs": [
    {
     "name": "stdout",
     "output_type": "stream",
     "text": [
      "The number of students who failed: 10\n"
     ]
    }
   ],
   "source": [
    "\n",
    "print(\"The number of students who failed:\",failcount)"
   ]
  },
  {
   "cell_type": "code",
   "execution_count": null,
   "id": "18da5dd7",
   "metadata": {},
   "outputs": [],
   "source": []
  }
 ],
 "metadata": {
  "kernelspec": {
   "display_name": "Python 3.9.7 64-bit",
   "language": "python",
   "name": "python3"
  },
  "language_info": {
   "codemirror_mode": {
    "name": "ipython",
    "version": 3
   },
   "file_extension": ".py",
   "mimetype": "text/x-python",
   "name": "python",
   "nbconvert_exporter": "python",
   "pygments_lexer": "ipython3",
   "version": "3.9.7"
  },
  "vscode": {
   "interpreter": {
    "hash": "abf1be7b3443b7639c967dba7f4787a0b29748a11f57d45bc865d3374dc817dc"
   }
  }
 },
 "nbformat": 4,
 "nbformat_minor": 5
}
